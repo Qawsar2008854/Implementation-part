{
 "cells": [
  {
   "cell_type": "code",
   "execution_count": 1,
   "id": "93d46ee5",
   "metadata": {},
   "outputs": [
    {
     "name": "stdout",
     "output_type": "stream",
     "text": [
      "Defaulting to user installation because normal site-packages is not writeable\n",
      "Requirement already satisfied: tensorflow in c:\\users\\hp\\appdata\\roaming\\python\\python310\\site-packages (2.15.0)\n",
      "Requirement already satisfied: tensorflow-intel==2.15.0 in c:\\users\\hp\\appdata\\roaming\\python\\python310\\site-packages (from tensorflow) (2.15.0)\n",
      "Requirement already satisfied: tensorboard<2.16,>=2.15 in c:\\users\\hp\\appdata\\roaming\\python\\python310\\site-packages (from tensorflow-intel==2.15.0->tensorflow) (2.15.1)\n",
      "Requirement already satisfied: protobuf!=4.21.0,!=4.21.1,!=4.21.2,!=4.21.3,!=4.21.4,!=4.21.5,<5.0.0dev,>=3.20.3 in c:\\users\\hp\\appdata\\roaming\\python\\python310\\site-packages (from tensorflow-intel==2.15.0->tensorflow) (4.23.4)\n",
      "Requirement already satisfied: six>=1.12.0 in c:\\programdata\\anaconda3\\lib\\site-packages (from tensorflow-intel==2.15.0->tensorflow) (1.16.0)\n",
      "Requirement already satisfied: termcolor>=1.1.0 in c:\\users\\hp\\appdata\\roaming\\python\\python310\\site-packages (from tensorflow-intel==2.15.0->tensorflow) (2.3.0)\n",
      "Requirement already satisfied: tensorflow-io-gcs-filesystem>=0.23.1 in c:\\users\\hp\\appdata\\roaming\\python\\python310\\site-packages (from tensorflow-intel==2.15.0->tensorflow) (0.31.0)\n",
      "Requirement already satisfied: packaging in c:\\programdata\\anaconda3\\lib\\site-packages (from tensorflow-intel==2.15.0->tensorflow) (22.0)\n",
      "Requirement already satisfied: numpy<2.0.0,>=1.23.5 in c:\\programdata\\anaconda3\\lib\\site-packages (from tensorflow-intel==2.15.0->tensorflow) (1.23.5)\n",
      "Requirement already satisfied: ml-dtypes~=0.2.0 in c:\\users\\hp\\appdata\\roaming\\python\\python310\\site-packages (from tensorflow-intel==2.15.0->tensorflow) (0.2.0)\n",
      "Requirement already satisfied: absl-py>=1.0.0 in c:\\users\\hp\\appdata\\roaming\\python\\python310\\site-packages (from tensorflow-intel==2.15.0->tensorflow) (1.4.0)\n",
      "Requirement already satisfied: setuptools in c:\\programdata\\anaconda3\\lib\\site-packages (from tensorflow-intel==2.15.0->tensorflow) (65.6.3)\n",
      "Requirement already satisfied: keras<2.16,>=2.15.0 in c:\\users\\hp\\appdata\\roaming\\python\\python310\\site-packages (from tensorflow-intel==2.15.0->tensorflow) (2.15.0)\n",
      "Requirement already satisfied: opt-einsum>=2.3.2 in c:\\users\\hp\\appdata\\roaming\\python\\python310\\site-packages (from tensorflow-intel==2.15.0->tensorflow) (3.3.0)\n",
      "Requirement already satisfied: h5py>=2.9.0 in c:\\programdata\\anaconda3\\lib\\site-packages (from tensorflow-intel==2.15.0->tensorflow) (3.7.0)\n",
      "Requirement already satisfied: typing-extensions>=3.6.6 in c:\\programdata\\anaconda3\\lib\\site-packages (from tensorflow-intel==2.15.0->tensorflow) (4.4.0)\n",
      "Requirement already satisfied: libclang>=13.0.0 in c:\\users\\hp\\appdata\\roaming\\python\\python310\\site-packages (from tensorflow-intel==2.15.0->tensorflow) (16.0.6)\n",
      "Requirement already satisfied: gast!=0.5.0,!=0.5.1,!=0.5.2,>=0.2.1 in c:\\users\\hp\\appdata\\roaming\\python\\python310\\site-packages (from tensorflow-intel==2.15.0->tensorflow) (0.4.0)\n",
      "Requirement already satisfied: astunparse>=1.6.0 in c:\\users\\hp\\appdata\\roaming\\python\\python310\\site-packages (from tensorflow-intel==2.15.0->tensorflow) (1.6.3)\n",
      "Requirement already satisfied: grpcio<2.0,>=1.24.3 in c:\\users\\hp\\appdata\\roaming\\python\\python310\\site-packages (from tensorflow-intel==2.15.0->tensorflow) (1.56.0)\n",
      "Requirement already satisfied: flatbuffers>=23.5.26 in c:\\users\\hp\\appdata\\roaming\\python\\python310\\site-packages (from tensorflow-intel==2.15.0->tensorflow) (23.5.26)\n",
      "Requirement already satisfied: google-pasta>=0.1.1 in c:\\users\\hp\\appdata\\roaming\\python\\python310\\site-packages (from tensorflow-intel==2.15.0->tensorflow) (0.2.0)\n",
      "Requirement already satisfied: tensorflow-estimator<2.16,>=2.15.0 in c:\\users\\hp\\appdata\\roaming\\python\\python310\\site-packages (from tensorflow-intel==2.15.0->tensorflow) (2.15.0)\n",
      "Requirement already satisfied: wrapt<1.15,>=1.11.0 in c:\\programdata\\anaconda3\\lib\\site-packages (from tensorflow-intel==2.15.0->tensorflow) (1.14.1)\n",
      "Requirement already satisfied: wheel<1.0,>=0.23.0 in c:\\programdata\\anaconda3\\lib\\site-packages (from astunparse>=1.6.0->tensorflow-intel==2.15.0->tensorflow) (0.38.4)\n",
      "Requirement already satisfied: google-auth-oauthlib<2,>=0.5 in c:\\users\\hp\\appdata\\roaming\\python\\python310\\site-packages (from tensorboard<2.16,>=2.15->tensorflow-intel==2.15.0->tensorflow) (1.0.0)\n",
      "Requirement already satisfied: requests<3,>=2.21.0 in c:\\programdata\\anaconda3\\lib\\site-packages (from tensorboard<2.16,>=2.15->tensorflow-intel==2.15.0->tensorflow) (2.28.1)\n",
      "Requirement already satisfied: werkzeug>=1.0.1 in c:\\programdata\\anaconda3\\lib\\site-packages (from tensorboard<2.16,>=2.15->tensorflow-intel==2.15.0->tensorflow) (2.2.2)\n",
      "Requirement already satisfied: markdown>=2.6.8 in c:\\programdata\\anaconda3\\lib\\site-packages (from tensorboard<2.16,>=2.15->tensorflow-intel==2.15.0->tensorflow) (3.4.1)\n",
      "Requirement already satisfied: google-auth<3,>=1.6.3 in c:\\users\\hp\\appdata\\roaming\\python\\python310\\site-packages (from tensorboard<2.16,>=2.15->tensorflow-intel==2.15.0->tensorflow) (2.22.0)\n",
      "Requirement already satisfied: tensorboard-data-server<0.8.0,>=0.7.0 in c:\\users\\hp\\appdata\\roaming\\python\\python310\\site-packages (from tensorboard<2.16,>=2.15->tensorflow-intel==2.15.0->tensorflow) (0.7.1)\n",
      "Requirement already satisfied: rsa<5,>=3.1.4 in c:\\users\\hp\\appdata\\roaming\\python\\python310\\site-packages (from google-auth<3,>=1.6.3->tensorboard<2.16,>=2.15->tensorflow-intel==2.15.0->tensorflow) (4.9)\n",
      "Requirement already satisfied: pyasn1-modules>=0.2.1 in c:\\programdata\\anaconda3\\lib\\site-packages (from google-auth<3,>=1.6.3->tensorboard<2.16,>=2.15->tensorflow-intel==2.15.0->tensorflow) (0.2.8)\n",
      "Requirement already satisfied: urllib3<2.0 in c:\\programdata\\anaconda3\\lib\\site-packages (from google-auth<3,>=1.6.3->tensorboard<2.16,>=2.15->tensorflow-intel==2.15.0->tensorflow) (1.26.14)\n",
      "Requirement already satisfied: cachetools<6.0,>=2.0.0 in c:\\users\\hp\\appdata\\roaming\\python\\python310\\site-packages (from google-auth<3,>=1.6.3->tensorboard<2.16,>=2.15->tensorflow-intel==2.15.0->tensorflow) (5.3.1)\n",
      "Requirement already satisfied: requests-oauthlib>=0.7.0 in c:\\users\\hp\\appdata\\roaming\\python\\python310\\site-packages (from google-auth-oauthlib<2,>=0.5->tensorboard<2.16,>=2.15->tensorflow-intel==2.15.0->tensorflow) (1.3.1)\n",
      "Requirement already satisfied: charset-normalizer<3,>=2 in c:\\programdata\\anaconda3\\lib\\site-packages (from requests<3,>=2.21.0->tensorboard<2.16,>=2.15->tensorflow-intel==2.15.0->tensorflow) (2.0.4)\n",
      "Requirement already satisfied: idna<4,>=2.5 in c:\\programdata\\anaconda3\\lib\\site-packages (from requests<3,>=2.21.0->tensorboard<2.16,>=2.15->tensorflow-intel==2.15.0->tensorflow) (3.4)\n",
      "Requirement already satisfied: certifi>=2017.4.17 in c:\\programdata\\anaconda3\\lib\\site-packages (from requests<3,>=2.21.0->tensorboard<2.16,>=2.15->tensorflow-intel==2.15.0->tensorflow) (2022.12.7)\n",
      "Requirement already satisfied: MarkupSafe>=2.1.1 in c:\\programdata\\anaconda3\\lib\\site-packages (from werkzeug>=1.0.1->tensorboard<2.16,>=2.15->tensorflow-intel==2.15.0->tensorflow) (2.1.1)\n",
      "Requirement already satisfied: pyasn1<0.5.0,>=0.4.6 in c:\\programdata\\anaconda3\\lib\\site-packages (from pyasn1-modules>=0.2.1->google-auth<3,>=1.6.3->tensorboard<2.16,>=2.15->tensorflow-intel==2.15.0->tensorflow) (0.4.8)\n",
      "Requirement already satisfied: oauthlib>=3.0.0 in c:\\users\\hp\\appdata\\roaming\\python\\python310\\site-packages (from requests-oauthlib>=0.7.0->google-auth-oauthlib<2,>=0.5->tensorboard<2.16,>=2.15->tensorflow-intel==2.15.0->tensorflow) (3.2.2)\n",
      "Note: you may need to restart the kernel to use updated packages.\n"
     ]
    },
    {
     "name": "stderr",
     "output_type": "stream",
     "text": [
      "WARNING: Ignoring invalid distribution -ensorflow-intel (c:\\users\\hp\\appdata\\roaming\\python\\python310\\site-packages)\n",
      "WARNING: Ignoring invalid distribution -ensorflow-intel (c:\\users\\hp\\appdata\\roaming\\python\\python310\\site-packages)\n",
      "WARNING: Ignoring invalid distribution -ensorflow-intel (c:\\users\\hp\\appdata\\roaming\\python\\python310\\site-packages)\n",
      "WARNING: Ignoring invalid distribution -ensorflow-intel (c:\\users\\hp\\appdata\\roaming\\python\\python310\\site-packages)\n",
      "WARNING: Ignoring invalid distribution -ensorflow-intel (c:\\users\\hp\\appdata\\roaming\\python\\python310\\site-packages)\n",
      "WARNING: Ignoring invalid distribution -ensorflow-intel (c:\\users\\hp\\appdata\\roaming\\python\\python310\\site-packages)\n"
     ]
    }
   ],
   "source": [
    "pip install tensorflow"
   ]
  },
  {
   "cell_type": "code",
   "execution_count": 2,
   "id": "24cdfbce",
   "metadata": {},
   "outputs": [
    {
     "name": "stdout",
     "output_type": "stream",
     "text": [
      "Defaulting to user installation because normal site-packages is not writeable\n",
      "Requirement already satisfied: seaborn in c:\\programdata\\anaconda3\\lib\\site-packages (0.12.2)\n",
      "Requirement already satisfied: numpy!=1.24.0,>=1.17 in c:\\programdata\\anaconda3\\lib\\site-packages (from seaborn) (1.23.5)\n",
      "Requirement already satisfied: matplotlib!=3.6.1,>=3.1 in c:\\programdata\\anaconda3\\lib\\site-packages (from seaborn) (3.7.0)\n",
      "Requirement already satisfied: pandas>=0.25 in c:\\programdata\\anaconda3\\lib\\site-packages (from seaborn) (1.5.3)\n",
      "Requirement already satisfied: cycler>=0.10 in c:\\programdata\\anaconda3\\lib\\site-packages (from matplotlib!=3.6.1,>=3.1->seaborn) (0.11.0)\n",
      "Requirement already satisfied: pyparsing>=2.3.1 in c:\\programdata\\anaconda3\\lib\\site-packages (from matplotlib!=3.6.1,>=3.1->seaborn) (3.0.9)\n",
      "Requirement already satisfied: fonttools>=4.22.0 in c:\\programdata\\anaconda3\\lib\\site-packages (from matplotlib!=3.6.1,>=3.1->seaborn) (4.25.0)\n",
      "Requirement already satisfied: contourpy>=1.0.1 in c:\\programdata\\anaconda3\\lib\\site-packages (from matplotlib!=3.6.1,>=3.1->seaborn) (1.0.5)\n",
      "Requirement already satisfied: kiwisolver>=1.0.1 in c:\\programdata\\anaconda3\\lib\\site-packages (from matplotlib!=3.6.1,>=3.1->seaborn) (1.4.4)\n",
      "Requirement already satisfied: python-dateutil>=2.7 in c:\\programdata\\anaconda3\\lib\\site-packages (from matplotlib!=3.6.1,>=3.1->seaborn) (2.8.2)\n",
      "Requirement already satisfied: packaging>=20.0 in c:\\programdata\\anaconda3\\lib\\site-packages (from matplotlib!=3.6.1,>=3.1->seaborn) (22.0)\n",
      "Requirement already satisfied: pillow>=6.2.0 in c:\\programdata\\anaconda3\\lib\\site-packages (from matplotlib!=3.6.1,>=3.1->seaborn) (9.4.0)\n",
      "Requirement already satisfied: pytz>=2020.1 in c:\\programdata\\anaconda3\\lib\\site-packages (from pandas>=0.25->seaborn) (2022.7)\n",
      "Requirement already satisfied: six>=1.5 in c:\\programdata\\anaconda3\\lib\\site-packages (from python-dateutil>=2.7->matplotlib!=3.6.1,>=3.1->seaborn) (1.16.0)\n",
      "Note: you may need to restart the kernel to use updated packages.\n"
     ]
    },
    {
     "name": "stderr",
     "output_type": "stream",
     "text": [
      "WARNING: Ignoring invalid distribution -ensorflow-intel (c:\\users\\hp\\appdata\\roaming\\python\\python310\\site-packages)\n",
      "WARNING: Ignoring invalid distribution -ensorflow-intel (c:\\users\\hp\\appdata\\roaming\\python\\python310\\site-packages)\n",
      "WARNING: Ignoring invalid distribution -ensorflow-intel (c:\\users\\hp\\appdata\\roaming\\python\\python310\\site-packages)\n",
      "WARNING: Ignoring invalid distribution -ensorflow-intel (c:\\users\\hp\\appdata\\roaming\\python\\python310\\site-packages)\n",
      "WARNING: Ignoring invalid distribution -ensorflow-intel (c:\\users\\hp\\appdata\\roaming\\python\\python310\\site-packages)\n",
      "WARNING: Ignoring invalid distribution -ensorflow-intel (c:\\users\\hp\\appdata\\roaming\\python\\python310\\site-packages)\n"
     ]
    }
   ],
   "source": [
    "pip install seaborn"
   ]
  },
  {
   "cell_type": "code",
   "execution_count": 3,
   "id": "2a291ebd",
   "metadata": {},
   "outputs": [
    {
     "name": "stdout",
     "output_type": "stream",
     "text": [
      "WARNING:tensorflow:From C:\\Users\\hp\\AppData\\Roaming\\Python\\Python310\\site-packages\\keras\\src\\losses.py:2976: The name tf.losses.sparse_softmax_cross_entropy is deprecated. Please use tf.compat.v1.losses.sparse_softmax_cross_entropy instead.\n",
      "\n"
     ]
    }
   ],
   "source": [
    "#Importing the required libraries\n",
    "import pandas as pd\n",
    "import numpy as np\n",
    "import seaborn as sns\n",
    "import tensorflow as tf\n",
    "from sklearn.metrics import log_loss\n",
    "sns.set_style(\"darkgrid\")\n",
    "from tensorflow.keras.callbacks import LearningRateScheduler\n",
    "import matplotlib.pyplot as plt\n",
    "from sklearn.model_selection import train_test_split\n",
    "from sklearn.decomposition import SparsePCA\n",
    "from sklearn.preprocessing import LabelEncoder, StandardScaler\n",
    "from keras.models import Sequential\n",
    "from keras.layers import SimpleRNN, LSTM, Dense, Bidirectional, Dropout, concatenate\n",
    "from keras.optimizers import RMSprop\n",
    "from keras.callbacks import EarlyStopping, ModelCheckpoint\n",
    "from sklearn.metrics import confusion_matrix, classification_report, roc_curve, roc_auc_score, auc\n",
    "from sklearn.metrics import precision_score, accuracy_score, recall_score, f1_score, roc_curve, auc, mean_squared_error,  mean_absolute_error, jaccard_score\n",
    "from sklearn.feature_selection import SelectKBest, mutual_info_classif\n",
    "from scipy.stats import zscore\n",
    "from scipy import stats"
   ]
  },
  {
   "cell_type": "code",
   "execution_count": 4,
   "id": "430ff620",
   "metadata": {},
   "outputs": [],
   "source": [
    "#Loading the dataset\n",
    "dataset = pd.read_csv('GHL.csv')\n",
    "dataset = dataset.dropna()"
   ]
  },
  {
   "cell_type": "code",
   "execution_count": 5,
   "id": "5255ca2e",
   "metadata": {},
   "outputs": [],
   "source": [
    "# extract the features and target variable\n",
    "X = dataset.iloc[:, :-1].values\n",
    "y = dataset.iloc[:, -1].values"
   ]
  },
  {
   "cell_type": "code",
   "execution_count": 6,
   "id": "a3721fa6",
   "metadata": {},
   "outputs": [],
   "source": [
    "# preprocess the dataset\n",
    "scaler = StandardScaler()\n",
    "X = scaler.fit_transform(X)\n",
    "le = LabelEncoder()\n",
    "y = le.fit_transform(y)"
   ]
  },
  {
   "cell_type": "code",
   "execution_count": 7,
   "id": "6877375c",
   "metadata": {},
   "outputs": [],
   "source": [
    "from imblearn.over_sampling import SMOTE\n",
    "#smote = SMOTE(sampling_strategy='auto', k_neighbors=2, random_state=42)\n",
    "smote = SMOTE(sampling_strategy='auto', random_state=42)\n",
    "X_resampled, y_resampled = smote.fit_resample(X, y)"
   ]
  },
  {
   "cell_type": "code",
   "execution_count": 8,
   "id": "b5b0d41a",
   "metadata": {},
   "outputs": [],
   "source": [
    "# split the dataset into training, testing, and validation datasets\n",
    "X_train, X_test, y_train, y_test = train_test_split(X, y, test_size=0.2, random_state=42)\n",
    "X_train, X_val, y_train, y_val = train_test_split(X_train, y_train, test_size=0.2, random_state=42)"
   ]
  },
  {
   "cell_type": "code",
   "execution_count": 9,
   "id": "a14c5301",
   "metadata": {},
   "outputs": [
    {
     "data": {
      "text/html": [
       "<div>\n",
       "<style scoped>\n",
       "    .dataframe tbody tr th:only-of-type {\n",
       "        vertical-align: middle;\n",
       "    }\n",
       "\n",
       "    .dataframe tbody tr th {\n",
       "        vertical-align: top;\n",
       "    }\n",
       "\n",
       "    .dataframe thead th {\n",
       "        text-align: right;\n",
       "    }\n",
       "</style>\n",
       "<table border=\"1\" class=\"dataframe\">\n",
       "  <thead>\n",
       "    <tr style=\"text-align: right;\">\n",
       "      <th></th>\n",
       "      <th>RT_level_ini</th>\n",
       "      <th>DANGER</th>\n",
       "      <th>FAULT</th>\n",
       "      <th>RT_temperature.T</th>\n",
       "      <th>HT_temperature.T</th>\n",
       "      <th>RT_level</th>\n",
       "      <th>out_valve_act</th>\n",
       "      <th>dT_rand</th>\n",
       "      <th>inv_valve_act</th>\n",
       "      <th>limiter.y</th>\n",
       "      <th>...</th>\n",
       "      <th>boundary.m_flow_in</th>\n",
       "      <th>dir_valve_act</th>\n",
       "      <th>dt_rand</th>\n",
       "      <th>C_level</th>\n",
       "      <th>C_temperature.T</th>\n",
       "      <th>heater_act</th>\n",
       "      <th>HT_level</th>\n",
       "      <th>limiter1.y</th>\n",
       "      <th>dL_rand</th>\n",
       "      <th>ATTACK</th>\n",
       "    </tr>\n",
       "  </thead>\n",
       "  <tbody>\n",
       "    <tr>\n",
       "      <th>0</th>\n",
       "      <td>0.0</td>\n",
       "      <td>0</td>\n",
       "      <td>0</td>\n",
       "      <td>283.149994</td>\n",
       "      <td>283.149994</td>\n",
       "      <td>0.5</td>\n",
       "      <td>0</td>\n",
       "      <td>0.0</td>\n",
       "      <td>0</td>\n",
       "      <td>283.0</td>\n",
       "      <td>...</td>\n",
       "      <td>0</td>\n",
       "      <td>0</td>\n",
       "      <td>0.0</td>\n",
       "      <td>0.01</td>\n",
       "      <td>273.149994</td>\n",
       "      <td>0</td>\n",
       "      <td>0.1</td>\n",
       "      <td>100.0</td>\n",
       "      <td>0.0</td>\n",
       "      <td>0</td>\n",
       "    </tr>\n",
       "    <tr>\n",
       "      <th>1</th>\n",
       "      <td>0.0</td>\n",
       "      <td>0</td>\n",
       "      <td>0</td>\n",
       "      <td>283.149994</td>\n",
       "      <td>283.163330</td>\n",
       "      <td>0.5</td>\n",
       "      <td>0</td>\n",
       "      <td>0.0</td>\n",
       "      <td>0</td>\n",
       "      <td>283.0</td>\n",
       "      <td>...</td>\n",
       "      <td>0</td>\n",
       "      <td>0</td>\n",
       "      <td>0.0</td>\n",
       "      <td>0.01</td>\n",
       "      <td>273.149994</td>\n",
       "      <td>0</td>\n",
       "      <td>0.1</td>\n",
       "      <td>100.0</td>\n",
       "      <td>0.0</td>\n",
       "      <td>0</td>\n",
       "    </tr>\n",
       "    <tr>\n",
       "      <th>2</th>\n",
       "      <td>0.0</td>\n",
       "      <td>0</td>\n",
       "      <td>0</td>\n",
       "      <td>283.149994</td>\n",
       "      <td>283.176666</td>\n",
       "      <td>0.5</td>\n",
       "      <td>0</td>\n",
       "      <td>0.0</td>\n",
       "      <td>0</td>\n",
       "      <td>283.0</td>\n",
       "      <td>...</td>\n",
       "      <td>0</td>\n",
       "      <td>0</td>\n",
       "      <td>0.0</td>\n",
       "      <td>0.01</td>\n",
       "      <td>273.149994</td>\n",
       "      <td>0</td>\n",
       "      <td>0.1</td>\n",
       "      <td>100.0</td>\n",
       "      <td>0.0</td>\n",
       "      <td>0</td>\n",
       "    </tr>\n",
       "    <tr>\n",
       "      <th>3</th>\n",
       "      <td>0.0</td>\n",
       "      <td>0</td>\n",
       "      <td>0</td>\n",
       "      <td>283.149994</td>\n",
       "      <td>283.189972</td>\n",
       "      <td>0.5</td>\n",
       "      <td>0</td>\n",
       "      <td>0.0</td>\n",
       "      <td>0</td>\n",
       "      <td>283.0</td>\n",
       "      <td>...</td>\n",
       "      <td>0</td>\n",
       "      <td>0</td>\n",
       "      <td>0.0</td>\n",
       "      <td>0.01</td>\n",
       "      <td>273.149994</td>\n",
       "      <td>0</td>\n",
       "      <td>0.1</td>\n",
       "      <td>100.0</td>\n",
       "      <td>0.0</td>\n",
       "      <td>0</td>\n",
       "    </tr>\n",
       "    <tr>\n",
       "      <th>4</th>\n",
       "      <td>0.0</td>\n",
       "      <td>0</td>\n",
       "      <td>0</td>\n",
       "      <td>283.149994</td>\n",
       "      <td>283.203247</td>\n",
       "      <td>0.5</td>\n",
       "      <td>0</td>\n",
       "      <td>0.0</td>\n",
       "      <td>0</td>\n",
       "      <td>283.0</td>\n",
       "      <td>...</td>\n",
       "      <td>0</td>\n",
       "      <td>0</td>\n",
       "      <td>0.0</td>\n",
       "      <td>0.01</td>\n",
       "      <td>273.149994</td>\n",
       "      <td>0</td>\n",
       "      <td>0.1</td>\n",
       "      <td>100.0</td>\n",
       "      <td>0.0</td>\n",
       "      <td>0</td>\n",
       "    </tr>\n",
       "  </tbody>\n",
       "</table>\n",
       "<p>5 rows × 22 columns</p>\n",
       "</div>"
      ],
      "text/plain": [
       "   RT_level_ini  DANGER  FAULT  RT_temperature.T  HT_temperature.T  RT_level  \\\n",
       "0           0.0       0      0        283.149994        283.149994       0.5   \n",
       "1           0.0       0      0        283.149994        283.163330       0.5   \n",
       "2           0.0       0      0        283.149994        283.176666       0.5   \n",
       "3           0.0       0      0        283.149994        283.189972       0.5   \n",
       "4           0.0       0      0        283.149994        283.203247       0.5   \n",
       "\n",
       "   out_valve_act  dT_rand  inv_valve_act  limiter.y  ...  boundary.m_flow_in  \\\n",
       "0              0      0.0              0      283.0  ...                   0   \n",
       "1              0      0.0              0      283.0  ...                   0   \n",
       "2              0      0.0              0      283.0  ...                   0   \n",
       "3              0      0.0              0      283.0  ...                   0   \n",
       "4              0      0.0              0      283.0  ...                   0   \n",
       "\n",
       "   dir_valve_act  dt_rand  C_level  C_temperature.T  heater_act  HT_level  \\\n",
       "0              0      0.0     0.01       273.149994           0       0.1   \n",
       "1              0      0.0     0.01       273.149994           0       0.1   \n",
       "2              0      0.0     0.01       273.149994           0       0.1   \n",
       "3              0      0.0     0.01       273.149994           0       0.1   \n",
       "4              0      0.0     0.01       273.149994           0       0.1   \n",
       "\n",
       "   limiter1.y  dL_rand  ATTACK  \n",
       "0       100.0      0.0       0  \n",
       "1       100.0      0.0       0  \n",
       "2       100.0      0.0       0  \n",
       "3       100.0      0.0       0  \n",
       "4       100.0      0.0       0  \n",
       "\n",
       "[5 rows x 22 columns]"
      ]
     },
     "execution_count": 9,
     "metadata": {},
     "output_type": "execute_result"
    }
   ],
   "source": [
    "dataset.head()"
   ]
  },
  {
   "cell_type": "code",
   "execution_count": 10,
   "id": "39b7ed1b",
   "metadata": {},
   "outputs": [],
   "source": [
    "\n",
    "\n",
    "\n",
    "# Reshape the data for the LSTM\n",
    "X_train = np.reshape(X_train, (X_train.shape[0], X_train.shape[1], 1))\n",
    "X_test = np.reshape(X_test, (X_test.shape[0], X_train.shape[1], 1))\n",
    "X_val = np.reshape(X_val, (X_val.shape[0], X_val.shape[1], 1))"
   ]
  },
  {
   "cell_type": "code",
   "execution_count": 11,
   "id": "6ab6a55f",
   "metadata": {},
   "outputs": [
    {
     "name": "stdout",
     "output_type": "stream",
     "text": [
      "WARNING:tensorflow:From C:\\Users\\hp\\AppData\\Roaming\\Python\\Python310\\site-packages\\keras\\src\\backend.py:873: The name tf.get_default_graph is deprecated. Please use tf.compat.v1.get_default_graph instead.\n",
      "\n",
      "WARNING:tensorflow:From C:\\Users\\hp\\AppData\\Roaming\\Python\\Python310\\site-packages\\keras\\src\\optimizers\\__init__.py:309: The name tf.train.Optimizer is deprecated. Please use tf.compat.v1.train.Optimizer instead.\n",
      "\n"
     ]
    }
   ],
   "source": [
    "import tensorflow as tf\n",
    "from tensorflow.keras.models import Sequential\n",
    "from tensorflow.keras.layers import Dense, LSTM, Dropout\n",
    "from tensorflow.keras.layers import Layer\n",
    "\n",
    "# Define Attention Layer\n",
    "class AttentionLayer(Layer):\n",
    "    def __init__(self, **kwargs):\n",
    "        super(AttentionLayer, self).__init__(**kwargs)\n",
    "\n",
    "    def build(self, input_shape):\n",
    "        self.W = self.add_weight(shape=(input_shape[-1], 1), initializer='glorot_uniform', trainable=True)\n",
    "\n",
    "    def call(self, inputs):\n",
    "        logits = tf.matmul(inputs, self.W)\n",
    "        attention_weights = tf.nn.softmax(logits, axis=1)\n",
    "        weighted_sum = tf.reduce_sum(inputs * attention_weights, axis=1)\n",
    "        return weighted_sum\n",
    "\n",
    "model = Sequential()\n",
    "model.add(Dense(units=128, activation='relu', input_shape=(X_train.shape[1], 1)))\n",
    "model.add(Dropout(0.2))\n",
    "model.add(LSTM(units=64, activation='relu', return_sequences=True))\n",
    "model.add(Dropout(0.2))\n",
    "# Add attention mechanism after the second LSTM layer\n",
    "model.add(AttentionLayer())\n",
    "\n",
    "# Reshape the output of the Attention layer to add the missing timestep dimension\n",
    "model.add(tf.keras.layers.Reshape((1, -1)))\n",
    "\n",
    "model.add(LSTM(units=32, activation='relu', return_sequences=False))\n",
    "model.add(Dropout(0.2))\n",
    "\n",
    "model.add(Dense(units=1, activation='sigmoid'))\n",
    "model.compile(loss='mse', optimizer='adam', metrics=['accuracy'])\n"
   ]
  },
  {
   "cell_type": "code",
   "execution_count": 12,
   "id": "47e60911",
   "metadata": {},
   "outputs": [],
   "source": [
    "#Define a learning rate schedular\n",
    "def scheduler(epoch, lr):\n",
    "    if epoch <=10:\n",
    "        return lr #Keep the initial learning rate for the first 200 epochs\n",
    "    else:\n",
    "        return lr * tf.math.exp(-0.1) # Reduce the learning rate by a factor of 0.1 after the 200th epoch"
   ]
  },
  {
   "cell_type": "code",
   "execution_count": 13,
   "id": "e7790a71",
   "metadata": {},
   "outputs": [
    {
     "name": "stdout",
     "output_type": "stream",
     "text": [
      "0 0.001\n",
      "1 0.001\n",
      "2 0.001\n",
      "3 0.001\n",
      "4 0.001\n",
      "5 0.001\n",
      "6 0.001\n",
      "7 0.001\n",
      "8 0.001\n",
      "9 0.001\n",
      "10 0.001\n",
      "11 tf.Tensor(0.00090483745, shape=(), dtype=float32)\n",
      "12 tf.Tensor(0.0008187308, shape=(), dtype=float32)\n",
      "13 tf.Tensor(0.0007408183, shape=(), dtype=float32)\n",
      "14 tf.Tensor(0.0006703201, shape=(), dtype=float32)\n",
      "15 tf.Tensor(0.00060653075, shape=(), dtype=float32)\n",
      "16 tf.Tensor(0.00054881175, shape=(), dtype=float32)\n",
      "17 tf.Tensor(0.0004965854, shape=(), dtype=float32)\n",
      "18 tf.Tensor(0.00044932903, shape=(), dtype=float32)\n",
      "19 tf.Tensor(0.0004065697, shape=(), dtype=float32)\n",
      "20 tf.Tensor(0.0003678795, shape=(), dtype=float32)\n",
      "21 tf.Tensor(0.00033287113, shape=(), dtype=float32)\n",
      "22 tf.Tensor(0.00030119426, shape=(), dtype=float32)\n",
      "23 tf.Tensor(0.00027253185, shape=(), dtype=float32)\n",
      "24 tf.Tensor(0.00024659702, shape=(), dtype=float32)\n",
      "25 tf.Tensor(0.0002231302, shape=(), dtype=float32)\n",
      "26 tf.Tensor(0.00020189656, shape=(), dtype=float32)\n",
      "27 tf.Tensor(0.00018268357, shape=(), dtype=float32)\n",
      "28 tf.Tensor(0.00016529893, shape=(), dtype=float32)\n",
      "29 tf.Tensor(0.00014956866, shape=(), dtype=float32)\n",
      "30 tf.Tensor(0.00013533531, shape=(), dtype=float32)\n",
      "31 tf.Tensor(0.00012245646, shape=(), dtype=float32)\n",
      "32 tf.Tensor(0.000110803194, shape=(), dtype=float32)\n",
      "33 tf.Tensor(0.000100258876, shape=(), dtype=float32)\n",
      "34 tf.Tensor(9.0717986e-05, shape=(), dtype=float32)\n",
      "35 tf.Tensor(8.2085025e-05, shape=(), dtype=float32)\n",
      "36 tf.Tensor(7.42736e-05, shape=(), dtype=float32)\n",
      "37 tf.Tensor(6.720553e-05, shape=(), dtype=float32)\n",
      "38 tf.Tensor(6.081008e-05, shape=(), dtype=float32)\n",
      "39 tf.Tensor(5.502324e-05, shape=(), dtype=float32)\n",
      "40 tf.Tensor(4.9787086e-05, shape=(), dtype=float32)\n",
      "41 tf.Tensor(4.504922e-05, shape=(), dtype=float32)\n",
      "42 tf.Tensor(4.076222e-05, shape=(), dtype=float32)\n",
      "43 tf.Tensor(3.6883182e-05, shape=(), dtype=float32)\n",
      "44 tf.Tensor(3.3373282e-05, shape=(), dtype=float32)\n",
      "45 tf.Tensor(3.0197394e-05, shape=(), dtype=float32)\n",
      "46 tf.Tensor(2.7323733e-05, shape=(), dtype=float32)\n",
      "47 tf.Tensor(2.4723537e-05, shape=(), dtype=float32)\n",
      "48 tf.Tensor(2.2370781e-05, shape=(), dtype=float32)\n",
      "49 tf.Tensor(2.024192e-05, shape=(), dtype=float32)\n",
      "50 tf.Tensor(1.8315646e-05, shape=(), dtype=float32)\n",
      "51 tf.Tensor(1.6572681e-05, shape=(), dtype=float32)\n",
      "52 tf.Tensor(1.4995582e-05, shape=(), dtype=float32)\n",
      "53 tf.Tensor(1.3568564e-05, shape=(), dtype=float32)\n",
      "54 tf.Tensor(1.22773445e-05, shape=(), dtype=float32)\n",
      "55 tf.Tensor(1.1109001e-05, shape=(), dtype=float32)\n",
      "56 tf.Tensor(1.005184e-05, shape=(), dtype=float32)\n",
      "57 tf.Tensor(9.095281e-06, shape=(), dtype=float32)\n",
      "58 tf.Tensor(8.22975e-06, shape=(), dtype=float32)\n",
      "59 tf.Tensor(7.446586e-06, shape=(), dtype=float32)\n",
      "60 tf.Tensor(6.7379497e-06, shape=(), dtype=float32)\n",
      "61 tf.Tensor(6.096749e-06, shape=(), dtype=float32)\n",
      "62 tf.Tensor(5.516567e-06, shape=(), dtype=float32)\n",
      "63 tf.Tensor(4.991596e-06, shape=(), dtype=float32)\n",
      "64 tf.Tensor(4.516583e-06, shape=(), dtype=float32)\n",
      "65 tf.Tensor(4.0867735e-06, shape=(), dtype=float32)\n",
      "66 tf.Tensor(3.6978656e-06, shape=(), dtype=float32)\n",
      "67 tf.Tensor(3.3459671e-06, shape=(), dtype=float32)\n",
      "68 tf.Tensor(3.0275562e-06, shape=(), dtype=float32)\n",
      "69 tf.Tensor(2.7394462e-06, shape=(), dtype=float32)\n",
      "70 tf.Tensor(2.4787535e-06, shape=(), dtype=float32)\n",
      "71 tf.Tensor(2.242869e-06, shape=(), dtype=float32)\n",
      "72 tf.Tensor(2.0294317e-06, shape=(), dtype=float32)\n",
      "73 tf.Tensor(1.8363057e-06, shape=(), dtype=float32)\n",
      "74 tf.Tensor(1.6615581e-06, shape=(), dtype=float32)\n",
      "75 tf.Tensor(1.50344e-06, shape=(), dtype=float32)\n",
      "76 tf.Tensor(1.3603687e-06, shape=(), dtype=float32)\n",
      "77 tf.Tensor(1.2309125e-06, shape=(), dtype=float32)\n",
      "78 tf.Tensor(1.1137757e-06, shape=(), dtype=float32)\n",
      "79 tf.Tensor(1.007786e-06, shape=(), dtype=float32)\n",
      "80 tf.Tensor(9.1188247e-07, shape=(), dtype=float32)\n",
      "81 tf.Tensor(8.2510536e-07, shape=(), dtype=float32)\n",
      "82 tf.Tensor(7.4658624e-07, shape=(), dtype=float32)\n",
      "83 tf.Tensor(6.755392e-07, shape=(), dtype=float32)\n",
      "84 tf.Tensor(6.1125314e-07, shape=(), dtype=float32)\n",
      "85 tf.Tensor(5.530847e-07, shape=(), dtype=float32)\n",
      "86 tf.Tensor(5.0045173e-07, shape=(), dtype=float32)\n",
      "87 tf.Tensor(4.5282746e-07, shape=(), dtype=float32)\n",
      "88 tf.Tensor(4.0973524e-07, shape=(), dtype=float32)\n",
      "89 tf.Tensor(3.7074378e-07, shape=(), dtype=float32)\n",
      "90 tf.Tensor(3.3546286e-07, shape=(), dtype=float32)\n",
      "91 tf.Tensor(3.0353934e-07, shape=(), dtype=float32)\n",
      "92 tf.Tensor(2.7465376e-07, shape=(), dtype=float32)\n",
      "93 tf.Tensor(2.48517e-07, shape=(), dtype=float32)\n",
      "94 tf.Tensor(2.2486749e-07, shape=(), dtype=float32)\n",
      "95 tf.Tensor(2.0346852e-07, shape=(), dtype=float32)\n",
      "96 tf.Tensor(1.8410593e-07, shape=(), dtype=float32)\n",
      "97 tf.Tensor(1.6658593e-07, shape=(), dtype=float32)\n",
      "98 tf.Tensor(1.5073319e-07, shape=(), dtype=float32)\n",
      "99 tf.Tensor(1.3638903e-07, shape=(), dtype=float32)\n"
     ]
    }
   ],
   "source": [
    "lr=0.001\n",
    "for i in range (100):\n",
    "    lr=scheduler(i,lr)\n",
    "    print(i,lr)\n"
   ]
  },
  {
   "cell_type": "code",
   "execution_count": 14,
   "id": "32c2a116",
   "metadata": {},
   "outputs": [],
   "source": [
    "callback=LearningRateScheduler(scheduler)"
   ]
  },
  {
   "cell_type": "code",
   "execution_count": 15,
   "id": "02618eae",
   "metadata": {},
   "outputs": [
    {
     "name": "stdout",
     "output_type": "stream",
     "text": [
      "Epoch 1/100\n",
      "WARNING:tensorflow:From C:\\Users\\hp\\AppData\\Roaming\\Python\\Python310\\site-packages\\keras\\src\\utils\\tf_utils.py:492: The name tf.ragged.RaggedTensorValue is deprecated. Please use tf.compat.v1.ragged.RaggedTensorValue instead.\n",
      "\n",
      "WARNING:tensorflow:From C:\\Users\\hp\\AppData\\Roaming\\Python\\Python310\\site-packages\\keras\\src\\engine\\base_layer_utils.py:384: The name tf.executing_eagerly_outside_functions is deprecated. Please use tf.compat.v1.executing_eagerly_outside_functions instead.\n",
      "\n",
      "2047/2047 [==============================] - 52s 22ms/step - loss: 0.0204 - accuracy: 0.9814 - val_loss: 0.0191 - val_accuracy: 0.9809 - lr: 0.0010\n",
      "Epoch 2/100\n",
      "2047/2047 [==============================] - 48s 23ms/step - loss: 0.0183 - accuracy: 0.9817 - val_loss: 0.0191 - val_accuracy: 0.9809 - lr: 0.0010\n",
      "Epoch 3/100\n",
      "2047/2047 [==============================] - 43s 21ms/step - loss: 0.0183 - accuracy: 0.9817 - val_loss: 0.0191 - val_accuracy: 0.9809 - lr: 0.0010\n",
      "Epoch 4/100\n",
      "2047/2047 [==============================] - 44s 22ms/step - loss: 0.0183 - accuracy: 0.9817 - val_loss: 0.0191 - val_accuracy: 0.9809 - lr: 0.0010\n",
      "Epoch 5/100\n",
      "2047/2047 [==============================] - 45s 22ms/step - loss: 0.0183 - accuracy: 0.9817 - val_loss: 0.0191 - val_accuracy: 0.9809 - lr: 0.0010\n",
      "Epoch 6/100\n",
      "2047/2047 [==============================] - 43s 21ms/step - loss: 0.0183 - accuracy: 0.9817 - val_loss: 0.0191 - val_accuracy: 0.9809 - lr: 0.0010\n",
      "Epoch 7/100\n",
      "2047/2047 [==============================] - 45s 22ms/step - loss: 0.0183 - accuracy: 0.9817 - val_loss: 0.0191 - val_accuracy: 0.9809 - lr: 0.0010\n",
      "Epoch 8/100\n",
      "2047/2047 [==============================] - 44s 21ms/step - loss: 0.0183 - accuracy: 0.9817 - val_loss: 0.0191 - val_accuracy: 0.9809 - lr: 0.0010\n",
      "Epoch 9/100\n",
      "2047/2047 [==============================] - 44s 21ms/step - loss: 0.0183 - accuracy: 0.9817 - val_loss: 0.0191 - val_accuracy: 0.9809 - lr: 0.0010\n",
      "Epoch 10/100\n",
      "2047/2047 [==============================] - 45s 22ms/step - loss: 0.0183 - accuracy: 0.9817 - val_loss: 0.0191 - val_accuracy: 0.9809 - lr: 0.0010\n",
      "Epoch 11/100\n",
      "2047/2047 [==============================] - 44s 21ms/step - loss: 0.0183 - accuracy: 0.9817 - val_loss: 0.0191 - val_accuracy: 0.9809 - lr: 0.0010\n",
      "Epoch 12/100\n",
      "2047/2047 [==============================] - 45s 22ms/step - loss: 0.0183 - accuracy: 0.9817 - val_loss: 0.0191 - val_accuracy: 0.9809 - lr: 9.0484e-04\n",
      "Epoch 13/100\n",
      "2047/2047 [==============================] - 45s 22ms/step - loss: 0.0183 - accuracy: 0.9817 - val_loss: 0.0191 - val_accuracy: 0.9809 - lr: 8.1873e-04\n",
      "Epoch 14/100\n",
      "2047/2047 [==============================] - 44s 21ms/step - loss: 0.0183 - accuracy: 0.9817 - val_loss: 0.0191 - val_accuracy: 0.9809 - lr: 7.4082e-04\n",
      "Epoch 15/100\n",
      "2047/2047 [==============================] - 44s 22ms/step - loss: 0.0183 - accuracy: 0.9817 - val_loss: 0.0191 - val_accuracy: 0.9809 - lr: 6.7032e-04\n",
      "Epoch 16/100\n",
      "2047/2047 [==============================] - 46s 22ms/step - loss: 0.0183 - accuracy: 0.9817 - val_loss: 0.0191 - val_accuracy: 0.9809 - lr: 6.0653e-04\n",
      "Epoch 17/100\n",
      "2047/2047 [==============================] - 45s 22ms/step - loss: 0.0183 - accuracy: 0.9817 - val_loss: 0.0191 - val_accuracy: 0.9809 - lr: 5.4881e-04\n",
      "Epoch 18/100\n",
      "2047/2047 [==============================] - 44s 21ms/step - loss: 0.0183 - accuracy: 0.9817 - val_loss: 0.0191 - val_accuracy: 0.9809 - lr: 4.9659e-04\n",
      "Epoch 19/100\n",
      "2047/2047 [==============================] - 43s 21ms/step - loss: 0.0183 - accuracy: 0.9817 - val_loss: 0.0191 - val_accuracy: 0.9809 - lr: 4.4933e-04\n",
      "Epoch 20/100\n",
      "2047/2047 [==============================] - 43s 21ms/step - loss: 0.0183 - accuracy: 0.9817 - val_loss: 0.0191 - val_accuracy: 0.9809 - lr: 4.0657e-04\n",
      "Epoch 21/100\n",
      "2047/2047 [==============================] - 47s 23ms/step - loss: 0.0183 - accuracy: 0.9817 - val_loss: 0.0191 - val_accuracy: 0.9809 - lr: 3.6788e-04\n",
      "Epoch 22/100\n",
      "2047/2047 [==============================] - 47s 23ms/step - loss: 0.0183 - accuracy: 0.9817 - val_loss: 0.0191 - val_accuracy: 0.9809 - lr: 3.3287e-04\n",
      "Epoch 23/100\n",
      "2047/2047 [==============================] - 50s 24ms/step - loss: 0.0183 - accuracy: 0.9817 - val_loss: 0.0191 - val_accuracy: 0.9809 - lr: 3.0119e-04\n",
      "Epoch 24/100\n",
      "2047/2047 [==============================] - 44s 22ms/step - loss: 0.0183 - accuracy: 0.9817 - val_loss: 0.0191 - val_accuracy: 0.9809 - lr: 2.7253e-04\n",
      "Epoch 25/100\n",
      "2047/2047 [==============================] - 44s 22ms/step - loss: 0.0183 - accuracy: 0.9817 - val_loss: 0.0191 - val_accuracy: 0.9809 - lr: 2.4660e-04\n",
      "Epoch 26/100\n",
      "2047/2047 [==============================] - 44s 22ms/step - loss: 0.0183 - accuracy: 0.9817 - val_loss: 0.0191 - val_accuracy: 0.9809 - lr: 2.2313e-04\n",
      "Epoch 27/100\n",
      "2047/2047 [==============================] - 44s 22ms/step - loss: 0.0183 - accuracy: 0.9817 - val_loss: 0.0191 - val_accuracy: 0.9809 - lr: 2.0190e-04\n",
      "Epoch 28/100\n",
      "2047/2047 [==============================] - 45s 22ms/step - loss: 0.0183 - accuracy: 0.9817 - val_loss: 0.0191 - val_accuracy: 0.9809 - lr: 1.8268e-04\n",
      "Epoch 29/100\n",
      "2047/2047 [==============================] - 44s 22ms/step - loss: 0.0183 - accuracy: 0.9817 - val_loss: 0.0191 - val_accuracy: 0.9809 - lr: 1.6530e-04\n",
      "Epoch 30/100\n",
      "2047/2047 [==============================] - 45s 22ms/step - loss: 0.0183 - accuracy: 0.9817 - val_loss: 0.0191 - val_accuracy: 0.9809 - lr: 1.4957e-04\n",
      "Epoch 31/100\n",
      "2047/2047 [==============================] - 44s 22ms/step - loss: 0.0183 - accuracy: 0.9817 - val_loss: 0.0191 - val_accuracy: 0.9809 - lr: 1.3534e-04\n",
      "Epoch 32/100\n",
      "2047/2047 [==============================] - 44s 22ms/step - loss: 0.0183 - accuracy: 0.9817 - val_loss: 0.0191 - val_accuracy: 0.9809 - lr: 1.2246e-04\n",
      "Epoch 33/100\n",
      "2047/2047 [==============================] - 45s 22ms/step - loss: 0.0183 - accuracy: 0.9817 - val_loss: 0.0191 - val_accuracy: 0.9809 - lr: 1.1080e-04\n",
      "Epoch 34/100\n",
      "2047/2047 [==============================] - 44s 22ms/step - loss: 0.0183 - accuracy: 0.9817 - val_loss: 0.0191 - val_accuracy: 0.9809 - lr: 1.0026e-04\n",
      "Epoch 35/100\n",
      "2047/2047 [==============================] - 44s 21ms/step - loss: 0.0183 - accuracy: 0.9817 - val_loss: 0.0191 - val_accuracy: 0.9809 - lr: 9.0718e-05\n",
      "Epoch 36/100\n",
      "2047/2047 [==============================] - 43s 21ms/step - loss: 0.0183 - accuracy: 0.9817 - val_loss: 0.0191 - val_accuracy: 0.9809 - lr: 8.2085e-05\n",
      "Epoch 37/100\n",
      "2047/2047 [==============================] - 43s 21ms/step - loss: 0.0183 - accuracy: 0.9817 - val_loss: 0.0191 - val_accuracy: 0.9809 - lr: 7.4274e-05\n",
      "Epoch 38/100\n",
      "2047/2047 [==============================] - 45s 22ms/step - loss: 0.0183 - accuracy: 0.9817 - val_loss: 0.0191 - val_accuracy: 0.9809 - lr: 6.7206e-05\n",
      "Epoch 39/100\n",
      "2047/2047 [==============================] - 42s 20ms/step - loss: 0.0183 - accuracy: 0.9817 - val_loss: 0.0191 - val_accuracy: 0.9809 - lr: 6.0810e-05\n",
      "Epoch 40/100\n",
      "2047/2047 [==============================] - 59s 29ms/step - loss: 0.0183 - accuracy: 0.9817 - val_loss: 0.0191 - val_accuracy: 0.9809 - lr: 5.5023e-05\n",
      "Epoch 41/100\n",
      "2047/2047 [==============================] - 44s 22ms/step - loss: 0.0183 - accuracy: 0.9817 - val_loss: 0.0191 - val_accuracy: 0.9809 - lr: 4.9787e-05\n",
      "Epoch 42/100\n",
      "2047/2047 [==============================] - 63s 31ms/step - loss: 0.0183 - accuracy: 0.9817 - val_loss: 0.0191 - val_accuracy: 0.9809 - lr: 4.5049e-05\n",
      "Epoch 43/100\n",
      "2047/2047 [==============================] - 42s 20ms/step - loss: 0.0183 - accuracy: 0.9817 - val_loss: 0.0191 - val_accuracy: 0.9809 - lr: 4.0762e-05\n",
      "Epoch 44/100\n",
      "2047/2047 [==============================] - 44s 21ms/step - loss: 0.0183 - accuracy: 0.9817 - val_loss: 0.0191 - val_accuracy: 0.9809 - lr: 3.6883e-05\n",
      "Epoch 45/100\n",
      "2047/2047 [==============================] - 54s 26ms/step - loss: 0.0183 - accuracy: 0.9817 - val_loss: 0.0191 - val_accuracy: 0.9809 - lr: 3.3373e-05\n",
      "Epoch 46/100\n",
      "2047/2047 [==============================] - 39s 19ms/step - loss: 0.0183 - accuracy: 0.9817 - val_loss: 0.0191 - val_accuracy: 0.9809 - lr: 3.0197e-05\n",
      "Epoch 47/100\n",
      "2047/2047 [==============================] - 39s 19ms/step - loss: 0.0183 - accuracy: 0.9817 - val_loss: 0.0191 - val_accuracy: 0.9809 - lr: 2.7324e-05\n",
      "Epoch 48/100\n",
      "2047/2047 [==============================] - 37s 18ms/step - loss: 0.0183 - accuracy: 0.9817 - val_loss: 0.0191 - val_accuracy: 0.9809 - lr: 2.4724e-05\n",
      "Epoch 49/100\n",
      "2047/2047 [==============================] - 38s 18ms/step - loss: 0.0183 - accuracy: 0.9817 - val_loss: 0.0191 - val_accuracy: 0.9809 - lr: 2.2371e-05\n",
      "Epoch 50/100\n",
      "2047/2047 [==============================] - 38s 19ms/step - loss: 0.0183 - accuracy: 0.9817 - val_loss: 0.0191 - val_accuracy: 0.9809 - lr: 2.0242e-05\n",
      "Epoch 51/100\n",
      "2047/2047 [==============================] - 38s 18ms/step - loss: 0.0183 - accuracy: 0.9817 - val_loss: 0.0191 - val_accuracy: 0.9809 - lr: 1.8316e-05\n",
      "Epoch 52/100\n",
      "2047/2047 [==============================] - 39s 19ms/step - loss: 0.0183 - accuracy: 0.9817 - val_loss: 0.0191 - val_accuracy: 0.9809 - lr: 1.6573e-05\n",
      "Epoch 53/100\n",
      "2047/2047 [==============================] - 38s 19ms/step - loss: 0.0183 - accuracy: 0.9817 - val_loss: 0.0191 - val_accuracy: 0.9809 - lr: 1.4996e-05\n",
      "Epoch 54/100\n",
      "2047/2047 [==============================] - 39s 19ms/step - loss: 0.0183 - accuracy: 0.9817 - val_loss: 0.0191 - val_accuracy: 0.9809 - lr: 1.3569e-05\n",
      "Epoch 55/100\n",
      "2047/2047 [==============================] - 39s 19ms/step - loss: 0.0183 - accuracy: 0.9817 - val_loss: 0.0191 - val_accuracy: 0.9809 - lr: 1.2277e-05\n",
      "Epoch 56/100\n",
      "2047/2047 [==============================] - 38s 18ms/step - loss: 0.0183 - accuracy: 0.9817 - val_loss: 0.0191 - val_accuracy: 0.9809 - lr: 1.1109e-05\n",
      "Epoch 57/100\n",
      "2047/2047 [==============================] - 38s 19ms/step - loss: 0.0183 - accuracy: 0.9817 - val_loss: 0.0191 - val_accuracy: 0.9809 - lr: 1.0052e-05\n",
      "Epoch 58/100\n",
      "2047/2047 [==============================] - 39s 19ms/step - loss: 0.0183 - accuracy: 0.9817 - val_loss: 0.0191 - val_accuracy: 0.9809 - lr: 9.0953e-06\n",
      "Epoch 59/100\n",
      "2047/2047 [==============================] - 39s 19ms/step - loss: 0.0183 - accuracy: 0.9817 - val_loss: 0.0191 - val_accuracy: 0.9809 - lr: 8.2298e-06\n",
      "Epoch 60/100\n",
      "2047/2047 [==============================] - 38s 19ms/step - loss: 0.0183 - accuracy: 0.9817 - val_loss: 0.0191 - val_accuracy: 0.9809 - lr: 7.4466e-06\n",
      "Epoch 61/100\n",
      "2047/2047 [==============================] - 38s 19ms/step - loss: 0.0183 - accuracy: 0.9817 - val_loss: 0.0191 - val_accuracy: 0.9809 - lr: 6.7379e-06\n",
      "Epoch 62/100\n",
      "2047/2047 [==============================] - 37s 18ms/step - loss: 0.0183 - accuracy: 0.9817 - val_loss: 0.0191 - val_accuracy: 0.9809 - lr: 6.0967e-06\n",
      "Epoch 63/100\n",
      "2047/2047 [==============================] - 39s 19ms/step - loss: 0.0183 - accuracy: 0.9817 - val_loss: 0.0191 - val_accuracy: 0.9809 - lr: 5.5166e-06\n",
      "Epoch 64/100\n",
      "2047/2047 [==============================] - 38s 18ms/step - loss: 0.0183 - accuracy: 0.9817 - val_loss: 0.0191 - val_accuracy: 0.9809 - lr: 4.9916e-06\n",
      "Epoch 65/100\n",
      "2047/2047 [==============================] - 38s 19ms/step - loss: 0.0183 - accuracy: 0.9817 - val_loss: 0.0191 - val_accuracy: 0.9809 - lr: 4.5166e-06\n",
      "Epoch 66/100\n",
      "2047/2047 [==============================] - 39s 19ms/step - loss: 0.0183 - accuracy: 0.9817 - val_loss: 0.0191 - val_accuracy: 0.9809 - lr: 4.0868e-06\n",
      "Epoch 67/100\n",
      "2047/2047 [==============================] - 40s 19ms/step - loss: 0.0183 - accuracy: 0.9817 - val_loss: 0.0191 - val_accuracy: 0.9809 - lr: 3.6979e-06\n",
      "Epoch 68/100\n",
      "2047/2047 [==============================] - 41s 20ms/step - loss: 0.0183 - accuracy: 0.9817 - val_loss: 0.0191 - val_accuracy: 0.9809 - lr: 3.3460e-06\n",
      "Epoch 69/100\n",
      "2047/2047 [==============================] - 38s 19ms/step - loss: 0.0183 - accuracy: 0.9817 - val_loss: 0.0191 - val_accuracy: 0.9809 - lr: 3.0276e-06\n",
      "Epoch 70/100\n",
      "2047/2047 [==============================] - 38s 19ms/step - loss: 0.0183 - accuracy: 0.9817 - val_loss: 0.0191 - val_accuracy: 0.9809 - lr: 2.7394e-06\n",
      "Epoch 71/100\n",
      "2047/2047 [==============================] - 38s 18ms/step - loss: 0.0183 - accuracy: 0.9817 - val_loss: 0.0191 - val_accuracy: 0.9809 - lr: 2.4788e-06\n",
      "Epoch 72/100\n",
      "2047/2047 [==============================] - 39s 19ms/step - loss: 0.0183 - accuracy: 0.9817 - val_loss: 0.0191 - val_accuracy: 0.9809 - lr: 2.2429e-06\n",
      "Epoch 73/100\n",
      "2047/2047 [==============================] - 37s 18ms/step - loss: 0.0183 - accuracy: 0.9817 - val_loss: 0.0191 - val_accuracy: 0.9809 - lr: 2.0294e-06\n",
      "Epoch 74/100\n",
      "2047/2047 [==============================] - 38s 18ms/step - loss: 0.0183 - accuracy: 0.9817 - val_loss: 0.0191 - val_accuracy: 0.9809 - lr: 1.8363e-06\n",
      "Epoch 75/100\n",
      "2047/2047 [==============================] - 37s 18ms/step - loss: 0.0183 - accuracy: 0.9817 - val_loss: 0.0191 - val_accuracy: 0.9809 - lr: 1.6616e-06\n",
      "Epoch 76/100\n",
      "2047/2047 [==============================] - 40s 20ms/step - loss: 0.0183 - accuracy: 0.9817 - val_loss: 0.0191 - val_accuracy: 0.9809 - lr: 1.5034e-06\n",
      "Epoch 77/100\n",
      "2047/2047 [==============================] - 38s 19ms/step - loss: 0.0183 - accuracy: 0.9817 - val_loss: 0.0191 - val_accuracy: 0.9809 - lr: 1.3604e-06\n",
      "Epoch 78/100\n",
      "2047/2047 [==============================] - 38s 18ms/step - loss: 0.0183 - accuracy: 0.9817 - val_loss: 0.0191 - val_accuracy: 0.9809 - lr: 1.2309e-06\n",
      "Epoch 79/100\n",
      "2047/2047 [==============================] - 40s 20ms/step - loss: 0.0183 - accuracy: 0.9817 - val_loss: 0.0191 - val_accuracy: 0.9809 - lr: 1.1138e-06\n",
      "Epoch 80/100\n",
      "2047/2047 [==============================] - 45s 22ms/step - loss: 0.0183 - accuracy: 0.9817 - val_loss: 0.0191 - val_accuracy: 0.9809 - lr: 1.0078e-06\n",
      "Epoch 81/100\n",
      "2047/2047 [==============================] - 44s 22ms/step - loss: 0.0183 - accuracy: 0.9817 - val_loss: 0.0191 - val_accuracy: 0.9809 - lr: 9.1188e-07\n",
      "Epoch 82/100\n",
      "2047/2047 [==============================] - 39s 19ms/step - loss: 0.0183 - accuracy: 0.9817 - val_loss: 0.0191 - val_accuracy: 0.9809 - lr: 8.2511e-07\n",
      "Epoch 83/100\n",
      "2047/2047 [==============================] - 41s 20ms/step - loss: 0.0183 - accuracy: 0.9817 - val_loss: 0.0191 - val_accuracy: 0.9809 - lr: 7.4659e-07\n",
      "Epoch 84/100\n",
      "2047/2047 [==============================] - 40s 20ms/step - loss: 0.0183 - accuracy: 0.9817 - val_loss: 0.0191 - val_accuracy: 0.9809 - lr: 6.7554e-07\n",
      "Epoch 85/100\n",
      "2047/2047 [==============================] - 38s 19ms/step - loss: 0.0183 - accuracy: 0.9817 - val_loss: 0.0191 - val_accuracy: 0.9809 - lr: 6.1125e-07\n",
      "Epoch 86/100\n",
      "2047/2047 [==============================] - 38s 19ms/step - loss: 0.0183 - accuracy: 0.9817 - val_loss: 0.0191 - val_accuracy: 0.9809 - lr: 5.5308e-07\n",
      "Epoch 87/100\n",
      "2047/2047 [==============================] - 37s 18ms/step - loss: 0.0183 - accuracy: 0.9817 - val_loss: 0.0191 - val_accuracy: 0.9809 - lr: 5.0045e-07\n",
      "Epoch 88/100\n",
      "2047/2047 [==============================] - 38s 19ms/step - loss: 0.0183 - accuracy: 0.9817 - val_loss: 0.0191 - val_accuracy: 0.9809 - lr: 4.5283e-07\n",
      "Epoch 89/100\n",
      "2047/2047 [==============================] - 39s 19ms/step - loss: 0.0183 - accuracy: 0.9817 - val_loss: 0.0191 - val_accuracy: 0.9809 - lr: 4.0974e-07\n",
      "Epoch 90/100\n",
      "2047/2047 [==============================] - 39s 19ms/step - loss: 0.0183 - accuracy: 0.9817 - val_loss: 0.0191 - val_accuracy: 0.9809 - lr: 3.7074e-07\n",
      "Epoch 91/100\n",
      "2047/2047 [==============================] - 40s 20ms/step - loss: 0.0183 - accuracy: 0.9817 - val_loss: 0.0191 - val_accuracy: 0.9809 - lr: 3.3546e-07\n",
      "Epoch 92/100\n",
      "2047/2047 [==============================] - 40s 19ms/step - loss: 0.0183 - accuracy: 0.9817 - val_loss: 0.0191 - val_accuracy: 0.9809 - lr: 3.0354e-07\n",
      "Epoch 93/100\n",
      "2047/2047 [==============================] - 41s 20ms/step - loss: 0.0183 - accuracy: 0.9817 - val_loss: 0.0191 - val_accuracy: 0.9809 - lr: 2.7465e-07\n",
      "Epoch 94/100\n",
      "2047/2047 [==============================] - 42s 20ms/step - loss: 0.0183 - accuracy: 0.9817 - val_loss: 0.0191 - val_accuracy: 0.9809 - lr: 2.4852e-07\n",
      "Epoch 95/100\n",
      "2047/2047 [==============================] - 43s 21ms/step - loss: 0.0183 - accuracy: 0.9817 - val_loss: 0.0191 - val_accuracy: 0.9809 - lr: 2.2487e-07\n",
      "Epoch 96/100\n",
      "2047/2047 [==============================] - 41s 20ms/step - loss: 0.0183 - accuracy: 0.9817 - val_loss: 0.0191 - val_accuracy: 0.9809 - lr: 2.0347e-07\n",
      "Epoch 97/100\n",
      "2047/2047 [==============================] - 40s 20ms/step - loss: 0.0183 - accuracy: 0.9817 - val_loss: 0.0191 - val_accuracy: 0.9809 - lr: 1.8411e-07\n",
      "Epoch 98/100\n",
      "2047/2047 [==============================] - 40s 20ms/step - loss: 0.0183 - accuracy: 0.9817 - val_loss: 0.0191 - val_accuracy: 0.9809 - lr: 1.6659e-07\n",
      "Epoch 99/100\n",
      "2047/2047 [==============================] - 37s 18ms/step - loss: 0.0183 - accuracy: 0.9817 - val_loss: 0.0191 - val_accuracy: 0.9809 - lr: 1.5073e-07\n",
      "Epoch 100/100\n",
      "2047/2047 [==============================] - 39s 19ms/step - loss: 0.0183 - accuracy: 0.9817 - val_loss: 0.0191 - val_accuracy: 0.9809 - lr: 1.3639e-07\n"
     ]
    }
   ],
   "source": [
    "history = model.fit(X_train.reshape((X_train.shape[0], X_train.shape[1], 1)), y_train, \n",
    "                    validation_data=(X_val.reshape((X_val.shape[0], X_val.shape[1], 1)), y_val),\n",
    "                    epochs=100, batch_size=64, verbose=1, callbacks=callback)"
   ]
  },
  {
   "cell_type": "code",
   "execution_count": 16,
   "id": "fcb596cd",
   "metadata": {},
   "outputs": [
    {
     "name": "stdout",
     "output_type": "stream",
     "text": [
      "1279/1279 [==============================] - 8s 6ms/step - loss: 0.0182 - accuracy: 0.9818\n",
      "Accuracy = 98.17955493927002 %\n",
      "1279/1279 [==============================] - 9s 7ms/step - loss: 0.0182 - accuracy: 0.9818\n",
      "Precision = 98.17955493927002 %\n",
      "1279/1279 [==============================] - 13s 10ms/step - loss: 0.0182 - accuracy: 0.9818\n",
      "F1 Score = 98.17955493927002 %\n",
      "1279/1279 [==============================] - 9s 7ms/step - loss: 0.0182 - accuracy: 0.9818\n",
      "Recall = 98.17955493927002 %\n",
      "1279/1279 [==============================] - 9s 7ms/step - loss: 0.0182 - accuracy: 0.9818\n",
      "Test score: 98.17955493927002 %\n"
     ]
    }
   ],
   "source": [
    "_,acc = model.evaluate(X_test, y_test)\n",
    "print(\"Accuracy =\", (acc * 100.0), \"%\")\n",
    "_,pre = model.evaluate(X_test, y_test)\n",
    "print(\"Precision =\", (pre * 100.0), \"%\")\n",
    "_,f1score = model.evaluate(X_test, y_test)\n",
    "print(\"F1 Score =\", (f1score * 100.0), \"%\")\n",
    "_,rec = model.evaluate(X_test, y_test)\n",
    "print(\"Recall =\", (rec * 100.0), \"%\")\n",
    "_,score = model.evaluate(X_test, y_test)\n",
    "print('Test score:', (score * 100.0), \"%\")"
   ]
  },
  {
   "cell_type": "code",
   "execution_count": 17,
   "id": "ca818529",
   "metadata": {},
   "outputs": [
    {
     "name": "stdout",
     "output_type": "stream",
     "text": [
      "1279/1279 [==============================] - 10s 7ms/step\n",
      "Precision: 0.9818\n",
      "Recall: 0.9818\n",
      "Accuracy: 0.9818\n",
      "F1 Score: 0.0000\n",
      "Jaccard Score: 0.0000\n",
      "Log Loss: 0.6562\n",
      "Confusion Matrix:\n",
      "[[40179     0]\n",
      " [  745     0]]\n",
      "Classification Report:\n",
      "              precision    recall  f1-score   support\n",
      "\n",
      "           0       0.98      1.00      0.99     40179\n",
      "           1       0.00      0.00      0.00       745\n",
      "\n",
      "    accuracy                           0.98     40924\n",
      "   macro avg       0.49      0.50      0.50     40924\n",
      "weighted avg       0.96      0.98      0.97     40924\n",
      "\n",
      "ROC AUC Score:\n"
     ]
    },
    {
     "name": "stderr",
     "output_type": "stream",
     "text": [
      "C:\\Users\\hp\\AppData\\Roaming\\Python\\Python310\\site-packages\\sklearn\\metrics\\_classification.py:1497: UndefinedMetricWarning: Precision is ill-defined and being set to 0.0 in labels with no predicted samples. Use `zero_division` parameter to control this behavior.\n",
      "  _warn_prf(average, modifier, f\"{metric.capitalize()} is\", len(result))\n",
      "C:\\Users\\hp\\AppData\\Roaming\\Python\\Python310\\site-packages\\sklearn\\metrics\\_classification.py:1497: UndefinedMetricWarning: Precision is ill-defined and being set to 0.0 in labels with no predicted samples. Use `zero_division` parameter to control this behavior.\n",
      "  _warn_prf(average, modifier, f\"{metric.capitalize()} is\", len(result))\n",
      "C:\\Users\\hp\\AppData\\Roaming\\Python\\Python310\\site-packages\\sklearn\\metrics\\_classification.py:1497: UndefinedMetricWarning: Precision is ill-defined and being set to 0.0 in labels with no predicted samples. Use `zero_division` parameter to control this behavior.\n",
      "  _warn_prf(average, modifier, f\"{metric.capitalize()} is\", len(result))\n"
     ]
    },
    {
     "name": "stdout",
     "output_type": "stream",
     "text": [
      "0.5\n"
     ]
    },
    {
     "data": {
      "image/png": "[encoded data removed]",
      "text/plain": [
       "<Figure size 640x480 with 2 Axes>"
      ]
     },
     "metadata": {},
     "output_type": "display_data"
    }
   ],
   "source": [
    "# Evaluate the model\n",
    "#y_pred = model.predict(X_test_pca.reshape((X_test_pca.shape[0], X_test_pca.shape[1], 1)))\n",
    "#y_pred = model.predict_classes(X_test.reshape((X_test.shape[0], X_test.shape[1], 1)))\n",
    "y_pred = model.predict(X_test)\n",
    "y_pred = (y_pred > 0.5)\n",
    "cm = confusion_matrix(y_test, y_pred)\n",
    "sns.heatmap(cm, annot=True, cmap='Blues')\n",
    "plt.ylabel('Actual label')\n",
    "plt.xlabel('Predicted label')\n",
    "#print(\"Confusion Matrix:\")\n",
    "print('Precision: %.4f' % precision_score(y_test, y_pred, average='micro'))\n",
    "print('Recall: %.4f' % recall_score(y_test, y_pred, average='micro'))\n",
    "print('Accuracy: %.4f' % accuracy_score(y_test, y_pred))\n",
    "print('F1 Score: %.4f' % f1_score(y_test, y_pred))\n",
    "print('Jaccard Score: %.4f' % jaccard_score(y_test, y_pred))\n",
    "print('Log Loss: %.4f' % log_loss(y_test, y_pred))\n",
    "print(\"Confusion Matrix:\")\n",
    "print(cm)\n",
    "print(\"Classification Report:\")\n",
    "print(classification_report(y_test, y_pred))\n",
    "print(\"ROC AUC Score:\")\n",
    "print(roc_auc_score(y_test, y_pred))"
   ]
  },
  {
   "cell_type": "code",
   "execution_count": 18,
   "id": "b55ac576",
   "metadata": {},
   "outputs": [
    {
     "name": "stdout",
     "output_type": "stream",
     "text": [
      "1279/1279 [==============================] - 9s 7ms/step\n"
     ]
    },
    {
     "data": {
      "image/png": "[encoded data removed]",
      "text/plain": [
       "<Figure size 800x600 with 2 Axes>"
      ]
     },
     "metadata": {},
     "output_type": "display_data"
    },
    {
     "name": "stdout",
     "output_type": "stream",
     "text": [
      "Precision: 0.9818\n",
      "Recall: 0.9818\n",
      "Accuracy: 0.9818\n",
      "F1 Score: 0.0000\n",
      "Jaccard Score: 0.0000\n",
      "Log Loss: 0.6562\n",
      "\n",
      "Confusion Matrix:\n",
      "[[40179     0]\n",
      " [  745     0]]\n",
      "\n",
      "Classification Report:\n",
      "              precision    recall  f1-score   support\n",
      "\n",
      "           0       0.98      1.00      0.99     40179\n",
      "           1       0.00      0.00      0.00       745\n",
      "\n",
      "    accuracy                           0.98     40924\n",
      "   macro avg       0.49      0.50      0.50     40924\n",
      "weighted avg       0.96      0.98      0.97     40924\n",
      "\n",
      "\n",
      "ROC AUC Score:\n",
      "0.5\n"
     ]
    },
    {
     "name": "stderr",
     "output_type": "stream",
     "text": [
      "C:\\Users\\hp\\AppData\\Roaming\\Python\\Python310\\site-packages\\sklearn\\metrics\\_classification.py:1497: UndefinedMetricWarning: Precision is ill-defined and being set to 0.0 in labels with no predicted samples. Use `zero_division` parameter to control this behavior.\n",
      "  _warn_prf(average, modifier, f\"{metric.capitalize()} is\", len(result))\n",
      "C:\\Users\\hp\\AppData\\Roaming\\Python\\Python310\\site-packages\\sklearn\\metrics\\_classification.py:1497: UndefinedMetricWarning: Precision is ill-defined and being set to 0.0 in labels with no predicted samples. Use `zero_division` parameter to control this behavior.\n",
      "  _warn_prf(average, modifier, f\"{metric.capitalize()} is\", len(result))\n",
      "C:\\Users\\hp\\AppData\\Roaming\\Python\\Python310\\site-packages\\sklearn\\metrics\\_classification.py:1497: UndefinedMetricWarning: Precision is ill-defined and being set to 0.0 in labels with no predicted samples. Use `zero_division` parameter to control this behavior.\n",
      "  _warn_prf(average, modifier, f\"{metric.capitalize()} is\", len(result))\n"
     ]
    }
   ],
   "source": [
    "import matplotlib.pyplot as plt\n",
    "import seaborn as sns\n",
    "from sklearn.metrics import confusion_matrix, precision_score, recall_score, accuracy_score, f1_score, jaccard_score, log_loss, classification_report, roc_auc_score\n",
    "\n",
    "# Example: Assuming y_test and y_pred are defined\n",
    "y_pred = model.predict(X_test)\n",
    "y_pred = (y_pred > 0.5)\n",
    "cm = confusion_matrix(y_test, y_pred)\n",
    "\n",
    "# Define class labels\n",
    "class_labels = ['normal', 'attack']\n",
    "\n",
    "# Plot confusion matrix\n",
    "plt.figure(figsize=(8, 6))\n",
    "sns.heatmap(cm, annot=True, cmap='Blues', fmt='d', \n",
    "            xticklabels=class_labels, yticklabels=class_labels)\n",
    "\n",
    "plt.title('Confusion Matrix')\n",
    "plt.ylabel('Actual label')\n",
    "plt.xlabel('Predicted label')\n",
    "plt.show()\n",
    "\n",
    "# Print evaluation metrics\n",
    "print('Precision: %.4f' % precision_score(y_test, y_pred, average='micro'))\n",
    "print('Recall: %.4f' % recall_score(y_test, y_pred, average='micro'))\n",
    "print('Accuracy: %.4f' % accuracy_score(y_test, y_pred))\n",
    "print('F1 Score: %.4f' % f1_score(y_test, y_pred))\n",
    "print('Jaccard Score: %.4f' % jaccard_score(y_test, y_pred))\n",
    "print('Log Loss: %.4f' % log_loss(y_test, y_pred))\n",
    "\n",
    "print(\"\\nConfusion Matrix:\")\n",
    "print(cm)\n",
    "\n",
    "print(\"\\nClassification Report:\")\n",
    "print(classification_report(y_test, y_pred))\n",
    "\n",
    "print(\"\\nROC AUC Score:\")\n",
    "print(roc_auc_score(y_test, y_pred))\n"
   ]
  },
  {
   "cell_type": "code",
   "execution_count": 19,
   "id": "4c26982e",
   "metadata": {},
   "outputs": [
    {
     "name": "stdout",
     "output_type": "stream",
     "text": [
      "Mean Squared Error: 0.018204476590753593\n",
      "Training Error: 0.018296221271157265\n",
      "Validation Error: 0.019059253856539726\n",
      "Z-Score: -inf\n"
     ]
    },
    {
     "name": "stderr",
     "output_type": "stream",
     "text": [
      "C:\\Users\\hp\\AppData\\Local\\Temp\\ipykernel_7672\\2143376901.py:5: RuntimeWarning: divide by zero encountered in double_scalars\n",
      "  z_score = (training_error - validation_error) / np.std(history.history['val_loss'])\n"
     ]
    }
   ],
   "source": [
    "# Calculate Z-score\n",
    "training_error = history.history['loss'][-1]\n",
    "testing_error = history.history['loss'][-1]\n",
    "validation_error = history.history['val_loss'][-1]\n",
    "z_score = (training_error - validation_error) / np.std(history.history['val_loss'])\n",
    "mse = mean_squared_error(y_test, y_pred)\n",
    "print(\"Mean Squared Error:\", mse)\n",
    "print(\"Training Error:\", training_error)\n",
    "print(\"Validation Error:\", validation_error)\n",
    "print(\"Z-Score:\", z_score)\n"
   ]
  },
  {
   "cell_type": "code",
   "execution_count": 20,
   "id": "e2765e16",
   "metadata": {},
   "outputs": [
    {
     "name": "stdout",
     "output_type": "stream",
     "text": [
      "1279/1279 [==============================] - 8s 6ms/step\n",
      "Test Mean Squared Error: 0.018204476590753593\n",
      "Training Error: 0.018296221271157265\n",
      "Validation Error: 0.019059253856539726\n",
      "Z-Score (test error): -inf\n"
     ]
    },
    {
     "name": "stderr",
     "output_type": "stream",
     "text": [
      "C:\\Users\\hp\\AppData\\Local\\Temp\\ipykernel_7672\\4279556638.py:21: RuntimeWarning: divide by zero encountered in double_scalars\n",
      "  z_score = (test_mse - train_loss_mean) / val_loss_std\n"
     ]
    }
   ],
   "source": [
    "import numpy as np\n",
    "from sklearn.metrics import mean_squared_error\n",
    "\n",
    "# Compute predictions for the test dataset\n",
    "y_test_pred = model.predict(X_test)\n",
    "y_test_pred = (y_test_pred > 0.5)  # Convert predictions to binary\n",
    "\n",
    "# Calculate Mean Squared Error for the test dataset\n",
    "test_mse = mean_squared_error(y_test, y_test_pred)\n",
    "\n",
    "# Calculate training and validation errors from history\n",
    "training_error = history.history['loss'][-1]\n",
    "validation_error = history.history['val_loss'][-1]\n",
    "\n",
    "# Calculate the mean and standard deviation of training and validation errors\n",
    "val_loss_std = np.std(history.history['val_loss'])\n",
    "train_loss_mean = np.mean(history.history['loss'])\n",
    "\n",
    "# Calculate Z-score for the test error\n",
    "# Note: This is a relative measure, using training error and validation loss as benchmarks\n",
    "z_score = (test_mse - train_loss_mean) / val_loss_std\n",
    "\n",
    "# Print results\n",
    "print(\"Test Mean Squared Error:\", test_mse)\n",
    "print(\"Training Error:\", training_error)\n",
    "print(\"Validation Error:\", validation_error)\n",
    "print(\"Z-Score (test error):\", z_score)"
   ]
  },
  {
   "cell_type": "code",
   "execution_count": 21,
   "id": "95122bcc",
   "metadata": {},
   "outputs": [
    {
     "name": "stdout",
     "output_type": "stream",
     "text": [
      "AUC: 0.5\n"
     ]
    },
    {
     "data": {
      "image/png": "[encoded data removed]",
      "text/plain": [
       "<Figure size 640x480 with 1 Axes>"
      ]
     },
     "metadata": {},
     "output_type": "display_data"
    }
   ],
   "source": [
    "# Plot ROC curve\n",
    "fpr, tpr, thresholds = roc_curve(y_test, y_pred)\n",
    "roc_auc = auc(fpr, tpr)\n",
    "plt.plot(fpr, tpr)\n",
    "plt.title('ROC Curve')\n",
    "plt.xlabel('False Positive Rate')\n",
    "plt.ylabel('True Positive Rate')\n",
    "#plot.bar(figsize=(20,8))\n",
    "print(\"AUC:\", roc_auc)\n"
   ]
  },
  {
   "cell_type": "code",
   "execution_count": 22,
   "id": "1398fd37",
   "metadata": {},
   "outputs": [
    {
     "data": {
      "text/plain": [
       "[<matplotlib.lines.Line2D at 0x2488d306710>]"
      ]
     },
     "execution_count": 22,
     "metadata": {},
     "output_type": "execute_result"
    },
    {
     "data": {
      "image/png": "[encoded data removed]",
      "text/plain": [
       "<Figure size 640x480 with 1 Axes>"
      ]
     },
     "metadata": {},
     "output_type": "display_data"
    }
   ],
   "source": [
    "plt.plot(history.history['loss'], label=\"training data\")\n",
    "#plt.plot(history.history['loss'], label=\"testing data\")\n",
    "plt.plot(history.history['val_loss'], label=\"validation data\" )\n",
    "#plt.plot([training_error] * len(history.history['loss']), '--')\n",
    "#plt.plot([validation_error] * len(history.history['loss']), '--')\n",
    "plt.xlabel('epochs')\n",
    "plt.ylabel('loss')\n",
    "plt.legend()\n",
    "plt.plot([mse])"
   ]
  },
  {
   "cell_type": "code",
   "execution_count": 23,
   "id": "a09cc659",
   "metadata": {},
   "outputs": [
    {
     "data": {
      "text/plain": [
       "[<matplotlib.lines.Line2D at 0x2488d38a5f0>]"
      ]
     },
     "execution_count": 23,
     "metadata": {},
     "output_type": "execute_result"
    },
    {
     "data": {
      "image/png": "[encoded data removed]",
      "text/plain": [
       "<Figure size 640x480 with 1 Axes>"
      ]
     },
     "metadata": {},
     "output_type": "display_data"
    }
   ],
   "source": [
    "plt.plot(history.history['loss'], label=\"training data\")\n",
    "#plt.plot(history.history['loss'], label=\"testing data\")\n",
    "plt.plot(history.history['val_loss'], label=\"validation data\" )\n",
    "#plt.plot([training_error] * len(history.history['loss']), '--')\n",
    "#plt.plot([validation_error] * len(history.history['loss']), '--')\n",
    "plt.xlabel('epochs')\n",
    "plt.ylabel('loss')\n",
    "plt.legend()\n",
    "plt.plot([mse])"
   ]
  },
  {
   "cell_type": "code",
   "execution_count": 24,
   "id": "700707ce",
   "metadata": {},
   "outputs": [
    {
     "ename": "NameError",
     "evalue": "name 'epochs' is not defined",
     "output_type": "error",
     "traceback": [
      "\u001b[1;31m---------------------------------------------------------------------------\u001b[0m",
      "\u001b[1;31mNameError\u001b[0m                                 Traceback (most recent call last)",
      "Cell \u001b[1;32mIn[24], line 4\u001b[0m\n\u001b[0;32m      2\u001b[0m val_acc\u001b[38;5;241m=\u001b[39mhistory\u001b[38;5;241m.\u001b[39mhistory[\u001b[38;5;124m'\u001b[39m\u001b[38;5;124mval_accuracy\u001b[39m\u001b[38;5;124m'\u001b[39m]\n\u001b[0;32m      3\u001b[0m \u001b[38;5;66;03m#epochs=range(1, len(loss)+1)\u001b[39;00m\n\u001b[1;32m----> 4\u001b[0m plt\u001b[38;5;241m.\u001b[39mplot(\u001b[43mepochs\u001b[49m,acc,\u001b[38;5;124m'\u001b[39m\u001b[38;5;124my\u001b[39m\u001b[38;5;124m'\u001b[39m, label\u001b[38;5;241m=\u001b[39m\u001b[38;5;124m'\u001b[39m\u001b[38;5;124mtraining accuracy\u001b[39m\u001b[38;5;124m'\u001b[39m)\n\u001b[0;32m      5\u001b[0m plt\u001b[38;5;241m.\u001b[39mplot(epochs,val_acc,\u001b[38;5;124m'\u001b[39m\u001b[38;5;124mg\u001b[39m\u001b[38;5;124m'\u001b[39m, label\u001b[38;5;241m=\u001b[39m\u001b[38;5;124m'\u001b[39m\u001b[38;5;124mvalidation accuracy\u001b[39m\u001b[38;5;124m'\u001b[39m)\n\u001b[0;32m      6\u001b[0m plt\u001b[38;5;241m.\u001b[39mtitle(\u001b[38;5;124m'\u001b[39m\u001b[38;5;124mTraining and Validation accuracy\u001b[39m\u001b[38;5;124m'\u001b[39m)\n",
      "\u001b[1;31mNameError\u001b[0m: name 'epochs' is not defined"
     ]
    }
   ],
   "source": [
    "acc= history.history['accuracy']\n",
    "val_acc=history.history['val_accuracy']\n",
    "#epochs=range(1, len(loss)+1)\n",
    "plt.plot(epochs,acc,'y', label='training accuracy')\n",
    "plt.plot(epochs,val_acc,'g', label='validation accuracy')\n",
    "plt.title('Training and Validation accuracy')\n",
    "plt.xlabel('epochs')\n",
    "plt.ylabel('accuracy')\n",
    "plt.legend()\n",
    "plt.show()"
   ]
  },
  {
   "cell_type": "code",
   "execution_count": null,
   "id": "10137222",
   "metadata": {},
   "outputs": [],
   "source": [
    "loss= history.history['loss']\n",
    "val_loss=history.history['val_loss']\n",
    "epochs=range(1, len(loss)+1)\n",
    "plt.plot(epochs, acc,'y', label='training data')\n",
    "plt.plot(epochs,val_acc,'g', label='validation data')\n",
    "plt.title('Training and Validation loss')\n",
    "plt.xlabel('epochs')\n",
    "plt.ylabel('loss')\n",
    "plt.legend()\n",
    "plt.show()"
   ]
  },
  {
   "cell_type": "code",
   "execution_count": null,
   "id": "ee0f1194",
   "metadata": {},
   "outputs": [],
   "source": [
    "acc= history.history['accuracy']\n",
    "val_acc=history.history['val_accuracy']\n",
    "#epochs=range(1, len(loss)+1)\n",
    "plt.plot(epochs,acc,'y', label='training accuracy')\n",
    "plt.plot(epochs,val_acc,'g', label='validation accuracy')\n",
    "plt.title('Training and Validation accuracy')\n",
    "plt.xlabel('epochs')\n",
    "plt.ylabel('accuracy')\n",
    "plt.legend()\n",
    "plt.show()"
   ]
  },
  {
   "cell_type": "code",
   "execution_count": null,
   "id": "3211c5a1",
   "metadata": {},
   "outputs": [],
   "source": [
    "\n",
    "# Predict probabilities for both models\n",
    "pred = model.predict(X_test)\n"
   ]
  },
  {
   "cell_type": "code",
   "execution_count": null,
   "id": "9f948135",
   "metadata": {},
   "outputs": [],
   "source": [
    "# Compute ROC curve and area under curve (AUC) for both models\n",
    "fpr, tpr, thresholds = roc_curve(y_test, pred)\n",
    "auc = auc(fpr, tpr)"
   ]
  },
  {
   "cell_type": "code",
   "execution_count": null,
   "id": "39762ae4",
   "metadata": {},
   "outputs": [],
   "source": [
    "plt.plot(fpr, tpr, label='RNN (AUC = {:.4f})'.format(auc))\n",
    "plt.plot([0, 1], color='orange', lw=2, linestyle='--')\n",
    "plt.xlabel('1-Specificity (FPR)')\n",
    "plt.ylabel('Sensitivity (TPR)')\n",
    "plt.title('ROC Curve')\n",
    "plt.legend()\n",
    "plt.show()"
   ]
  },
  {
   "cell_type": "code",
   "execution_count": null,
   "id": "7759bd69",
   "metadata": {},
   "outputs": [],
   "source": []
  },
  {
   "cell_type": "code",
   "execution_count": null,
   "id": "237d1b0c",
   "metadata": {},
   "outputs": [],
   "source": []
  },
  {
   "cell_type": "code",
   "execution_count": null,
   "id": "c8586a49",
   "metadata": {},
   "outputs": [],
   "source": []
  }
 ],
 "metadata": {
  "kernelspec": {
   "display_name": "Python 3 (ipykernel)",
   "language": "python",
   "name": "python3"
  },
  "language_info": {
   "codemirror_mode": {
    "name": "ipython",
    "version": 3
   },
   "file_extension": ".py",
   "mimetype": "text/x-python",
   "name": "python",
   "nbconvert_exporter": "python",
   "pygments_lexer": "ipython3",
   "version": "3.10.9"
  }
 },
 "nbformat": 4,
 "nbformat_minor": 5
}
